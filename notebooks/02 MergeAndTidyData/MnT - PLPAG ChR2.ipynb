{
 "cells": [
  {
   "cell_type": "code",
   "execution_count": 1,
   "metadata": {},
   "outputs": [],
   "source": [
    "import pandas as pd\n",
    "from pathlib import Path\n",
    "import numpy as np\n",
    "from collections import namedtuple\n",
    "from spiketimes.df.binning import which_bin\n",
    "from spiketimes.df.alignment import align_around"
   ]
  },
  {
   "cell_type": "code",
   "execution_count": 2,
   "metadata": {},
   "outputs": [],
   "source": [
    "report_dir = r\"C:\\Users\\Rory\\Google Drive\\ah_vids\\PLPAG_ChR\\freeze_analysis\\conditioning_reports\"\n",
    "output_dir = report_dir\n",
    "metadata_file = r\"C:\\Users\\Rory\\Google Drive\\ah_vids\\PLPAG_ChR\\metadata\\align.csv\"\n",
    "groups_file = r\"C:\\Users\\Rory\\Google Drive\\ah_vids\\PLPAG_ChR\\metadata\\animals.csv\""
   ]
  },
  {
   "cell_type": "code",
   "execution_count": 3,
   "metadata": {},
   "outputs": [],
   "source": [
    "report_dir = Path(report_dir)\n",
    "output_dir = Path(output_dir)\n",
    "df_groups = pd.read_csv(groups_file)\n",
    "df_meta = pd.read_csv(metadata_file)\n",
    "report_paths = [*report_dir.glob(\"*.csv\")]\n",
    "df_reports = (\n",
    "    pd.concat([*map(pd.read_csv, report_paths)])\n",
    "    .assign(\n",
    "        animal_name=lambda x: x.video_name.apply(\n",
    "            lambda y: y.split(\".\")[0]\n",
    "        )\n",
    "    )\n",
    ")"
   ]
  },
  {
   "cell_type": "code",
   "execution_count": 4,
   "metadata": {},
   "outputs": [],
   "source": [
    "def align_to_experiment(df, df_meta):\n",
    "    animal_name = df.animal_name.unique()[0]\n",
    "    dfm = df_meta.loc[lambda x: (x.animal_name == animal_name) &\n",
    "                      (x.experimental_timepoint_name == \"first_cs\")\n",
    "                     ]\n",
    "    exp_time, vid_time = dfm.timepoint_in_experiment.values[0], dfm.time_in_video.values[0]\n",
    "    offset = exp_time - vid_time\n",
    "    return df.assign(exp_time = lambda x: x.time.add(offset))"
   ]
  },
  {
   "cell_type": "code",
   "execution_count": 5,
   "metadata": {},
   "outputs": [],
   "source": [
    "df_reports_aligned = (\n",
    "    df_reports\n",
    "    .groupby(\"animal_name\")\n",
    "    .apply(\n",
    "        lambda x: align_to_experiment(x, df_meta=df_meta)\n",
    "    )\n",
    "    .reset_index(drop=True)\n",
    ")"
   ]
  },
  {
   "cell_type": "code",
   "execution_count": 6,
   "metadata": {},
   "outputs": [],
   "source": [
    "def _get_block(baseline_numsec, cs_numsec, iti_numsec, postexp_numsec, num_trials):\n",
    "    Block = namedtuple(\"Block\", [\"name\", \"length\"])\n",
    "    baseline = Block(name=\"Baseline\", length=baseline_numsec)\n",
    "    cs = Block(name=\"CS\", length=cs_numsec)\n",
    "    iti = Block(name=\"ITI\", length=iti_numsec)\n",
    "    postexp = Block(name=\"PostExperiment\", length=postexp_numsec)\n",
    "    blocks = [baseline]\n",
    "    blocks.extend([cs, iti] * num_trials)\n",
    "    blocks.append(postexp)\n",
    "    block_lengths = np.array([*map(lambda x: x.length, blocks)])\n",
    "    block_timepoints = np.insert(0, [1], np.cumsum(block_lengths))\n",
    "    return blocks, block_timepoints\n",
    "\n",
    "def _get_blocktype(df, blocks):\n",
    "    return df.bin_idx.apply(\n",
    "        lambda x: np.nan if np.isnan(x) else blocks[int(x)].name\n",
    "    )\n",
    "\n",
    "def _get_trialnum(idx):\n",
    "    if np.isnan(idx):\n",
    "        return np.nan\n",
    "    if not (idx > 0 and idx < 61):\n",
    "        return np.nan\n",
    "    return int(np.ceil(idx // 2))\n",
    "\n",
    "def align_to_blocks(\n",
    "        df, \n",
    "        baseline_numsec=180, \n",
    "        cs_numsec=30, \n",
    "        iti_numsec=10, \n",
    "        postexp_numsec=180, \n",
    "        num_trials=30\n",
    "):\n",
    "    blocks, blocktimepoints = _get_block(\n",
    "        baseline_numsec=baseline_numsec, \n",
    "        cs_numsec=cs_numsec, \n",
    "        iti_numsec=iti_numsec, \n",
    "        postexp_numsec=postexp_numsec, \n",
    "        num_trials=30\n",
    "    )\n",
    "    max_latency = np.max([baseline_numsec, cs_numsec, iti_numsec, postexp_numsec])\n",
    "    df = (\n",
    "        which_bin(\n",
    "            df, spiketimes_col=\"exp_time\", bin_edges=blocktimepoints, max_latency=max_latency\n",
    "        )\n",
    "        .assign(\n",
    "            block_type = lambda x: _get_blocktype(x, blocks=blocks),\n",
    "            trial_num =  lambda x: x.bin_idx.apply(_get_trialnum)\n",
    "        )\n",
    "        .drop([\"bin_idx\", \"bin_values\"], axis=1)\n",
    "    )\n",
    "    df = align_around(df, data_colname=\"exp_time\", events=blocktimepoints)\n",
    "    return df"
   ]
  },
  {
   "cell_type": "code",
   "execution_count": 7,
   "metadata": {},
   "outputs": [],
   "source": [
    "df_out = align_to_blocks(\n",
    "    df_reports_aligned, \n",
    "    baseline_numsec=180, \n",
    "        cs_numsec=30, \n",
    "        iti_numsec=10, \n",
    "        postexp_numsec=180, \n",
    "        num_trials=30\n",
    ")"
   ]
  },
  {
   "cell_type": "code",
   "execution_count": 9,
   "metadata": {},
   "outputs": [],
   "source": [
    "df_out.merge(df_groups).to_csv(output_dir / \"PLPAG_ChR_tidy.csv\", index=False)"
   ]
  },
  {
   "cell_type": "code",
   "execution_count": null,
   "metadata": {},
   "outputs": [],
   "source": []
  }
 ],
 "metadata": {
  "kernelspec": {
   "display_name": "Python 3",
   "language": "python",
   "name": "python3"
  },
  "language_info": {
   "codemirror_mode": {
    "name": "ipython",
    "version": 3
   },
   "file_extension": ".py",
   "mimetype": "text/x-python",
   "name": "python",
   "nbconvert_exporter": "python",
   "pygments_lexer": "ipython3",
   "version": "3.6.12"
  }
 },
 "nbformat": 4,
 "nbformat_minor": 4
}
