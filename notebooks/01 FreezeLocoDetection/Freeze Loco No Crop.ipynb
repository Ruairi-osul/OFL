{
 "cells": [
  {
   "cell_type": "code",
   "execution_count": 2,
   "metadata": {},
   "outputs": [],
   "source": [
    "from pathlib import Path\n",
    "import pandas as pd\n",
    "from mfreeze.oop_interface import FreezeDetector, LoctionTracker\n",
    "from mfreeze.utils import crop_set_same"
   ]
  },
  {
   "cell_type": "code",
   "execution_count": 34,
   "metadata": {},
   "outputs": [],
   "source": [
    "inner_names = [\n",
    "#     \"0523_FPg1_ret\",\n",
    "    \"0528_FPg2_ret\",\n",
    "    \"0530_FPg3_ret\",\n",
    "    \"0604_FPg4_ret_vids\"\n",
    "]"
   ]
  },
  {
   "cell_type": "code",
   "execution_count": 33,
   "metadata": {},
   "outputs": [],
   "source": [
    "outer_name = \"FP\"\n",
    "inner_name = \"0523_FPg1_ret\"\n",
    "ext = \".mp4\""
   ]
  },
  {
   "cell_type": "code",
   "execution_count": 19,
   "metadata": {},
   "outputs": [],
   "source": [
    "save_dir = Path(\".\").absolute().parent / \"output\" / outer_name / inner_name\n",
    "save_vid_dir = save_dir / \"processed_videos\"\n",
    "save_report_dir = save_dir / \"reports\"\n",
    "for d in (save_dir.parent, save_dir, save_vid_dir, save_report_dir):\n",
    "    d.mkdir(exist_ok=True)"
   ]
  },
  {
   "cell_type": "code",
   "execution_count": 20,
   "metadata": {},
   "outputs": [],
   "source": [
    "input_dir = Path(\".\").absolute().parent / \"raw_videos\" / outer_name / inner_name"
   ]
  },
  {
   "cell_type": "code",
   "execution_count": 32,
   "metadata": {},
   "outputs": [
    {
     "name": "stderr",
     "output_type": "stream",
     "text": [
      "2it [12:49, 383.10s/it]c:\\users\\rory\\repos\\mfreeze\\mfreeze\\video.py:149: UserWarning: Less Freezes than frames passed. Exiting at frame 45157\n",
      "  f\"Less Freezes than frames passed. Exiting at frame {i}\"\n",
      "3it [19:05, 380.81s/it]c:\\users\\rory\\repos\\mfreeze\\mfreeze\\video.py:149: UserWarning: Less Freezes than frames passed. Exiting at frame 46131\n",
      "  f\"Less Freezes than frames passed. Exiting at frame {i}\"\n",
      "c:\\users\\rory\\repos\\mfreeze\\mfreeze\\video.py:246: UserWarning: Error: Only wrote 46133 of 46138\n",
      "  warnings.warn(f\"Error: Only wrote {i} of {num_frames}\")\n",
      "4it [25:43, 385.93s/it]\n"
     ]
    }
   ],
   "source": [
    "freeze_threshold = -0.1 \n",
    "start_frame=400\n",
    "\n",
    "for vid in tqdm(input_dir.glob(f\"*{ext}\")):\n",
    "    vid = str(vid)\n",
    "    detector = FreezeDetector(\n",
    "        vid,\n",
    "        save_video_dir=save_vid_dir,\n",
    "        freeze_threshold=freeze_threshold, \n",
    "        start_frame=start_frame, \n",
    "        med_filter_size=5\n",
    "    )\n",
    "    ROLE = \"obs\"\n",
    "    detector.run_analysis()\n",
    "    \n",
    "    tracker = LoctionTracker(vid, save_video_dir=save_vid_dir, start_frame=start_frame)\n",
    "    tracker = crop_set_same(detector, tracker)\n",
    "    tracker.track_location()\n",
    "    tracker.save_video()\n",
    "    \n",
    "    dff = detector.generate_report()\n",
    "    dft = tracker.generate_report()\n",
    "    df = pd.merge(dff, dft, on=[\"frame\", \"time\", \"video_name\"]).assign(role=ROLE)\n",
    "    df.to_csv(str(save_report_dir / Path(vid).stem) + f\"_{ROLE}.csv\", index=False)"
   ]
  },
  {
   "cell_type": "code",
   "execution_count": 36,
   "metadata": {},
   "outputs": [
    {
     "name": "stderr",
     "output_type": "stream",
     "text": [
      "5it [32:31, 390.21s/it]\n",
      "5it [30:17, 363.51s/it]\n"
     ]
    },
    {
     "ename": "KeyboardInterrupt",
     "evalue": "",
     "output_type": "error",
     "traceback": [
      "\u001b[1;31m---------------------------------------------------------------------------\u001b[0m",
      "\u001b[1;31mKeyboardInterrupt\u001b[0m                         Traceback (most recent call last)",
      "\u001b[1;32m<ipython-input-36-fe89f445f760>\u001b[0m in \u001b[0;36m<module>\u001b[1;34m\u001b[0m\n\u001b[0;32m     25\u001b[0m         \u001b[0mtracker\u001b[0m \u001b[1;33m=\u001b[0m \u001b[0mLoctionTracker\u001b[0m\u001b[1;33m(\u001b[0m\u001b[0mvid\u001b[0m\u001b[1;33m,\u001b[0m \u001b[0msave_video_dir\u001b[0m\u001b[1;33m=\u001b[0m\u001b[0msave_vid_dir\u001b[0m\u001b[1;33m,\u001b[0m \u001b[0mstart_frame\u001b[0m\u001b[1;33m=\u001b[0m\u001b[0mstart_frame\u001b[0m\u001b[1;33m)\u001b[0m\u001b[1;33m\u001b[0m\u001b[1;33m\u001b[0m\u001b[0m\n\u001b[0;32m     26\u001b[0m         \u001b[0mtracker\u001b[0m \u001b[1;33m=\u001b[0m \u001b[0mcrop_set_same\u001b[0m\u001b[1;33m(\u001b[0m\u001b[0mdetector\u001b[0m\u001b[1;33m,\u001b[0m \u001b[0mtracker\u001b[0m\u001b[1;33m)\u001b[0m\u001b[1;33m\u001b[0m\u001b[1;33m\u001b[0m\u001b[0m\n\u001b[1;32m---> 27\u001b[1;33m         \u001b[0mtracker\u001b[0m\u001b[1;33m.\u001b[0m\u001b[0mtrack_location\u001b[0m\u001b[1;33m(\u001b[0m\u001b[1;33m)\u001b[0m\u001b[1;33m\u001b[0m\u001b[1;33m\u001b[0m\u001b[0m\n\u001b[0m\u001b[0;32m     28\u001b[0m         \u001b[0mtracker\u001b[0m\u001b[1;33m.\u001b[0m\u001b[0msave_video\u001b[0m\u001b[1;33m(\u001b[0m\u001b[1;33m)\u001b[0m\u001b[1;33m\u001b[0m\u001b[1;33m\u001b[0m\u001b[0m\n\u001b[0;32m     29\u001b[0m \u001b[1;33m\u001b[0m\u001b[0m\n",
      "\u001b[1;32mc:\\users\\rory\\repos\\mfreeze\\mfreeze\\oop_interface.py\u001b[0m in \u001b[0;36mwrapped\u001b[1;34m(self, *args, **kwargs)\u001b[0m\n\u001b[0;32m     20\u001b[0m         \u001b[1;32mif\u001b[0m \u001b[0mself\u001b[0m\u001b[1;33m.\u001b[0m\u001b[0m_using_crop_interactive\u001b[0m\u001b[1;33m:\u001b[0m\u001b[1;33m\u001b[0m\u001b[1;33m\u001b[0m\u001b[0m\n\u001b[0;32m     21\u001b[0m             \u001b[0mself\u001b[0m\u001b[1;33m.\u001b[0m\u001b[0m_update_crop_attrs_interactive\u001b[0m\u001b[1;33m(\u001b[0m\u001b[1;33m)\u001b[0m\u001b[1;33m\u001b[0m\u001b[1;33m\u001b[0m\u001b[0m\n\u001b[1;32m---> 22\u001b[1;33m         \u001b[1;32mreturn\u001b[0m \u001b[0mf\u001b[0m\u001b[1;33m(\u001b[0m\u001b[0mself\u001b[0m\u001b[1;33m,\u001b[0m \u001b[1;33m*\u001b[0m\u001b[0margs\u001b[0m\u001b[1;33m,\u001b[0m \u001b[1;33m**\u001b[0m\u001b[0mkwargs\u001b[0m\u001b[1;33m)\u001b[0m\u001b[1;33m\u001b[0m\u001b[1;33m\u001b[0m\u001b[0m\n\u001b[0m\u001b[0;32m     23\u001b[0m \u001b[1;33m\u001b[0m\u001b[0m\n\u001b[0;32m     24\u001b[0m     \u001b[1;32mreturn\u001b[0m \u001b[0mwrapped\u001b[0m\u001b[1;33m\u001b[0m\u001b[1;33m\u001b[0m\u001b[0m\n",
      "\u001b[1;32mc:\\users\\rory\\repos\\mfreeze\\mfreeze\\oop_interface.py\u001b[0m in \u001b[0;36mtrack_location\u001b[1;34m(self, thresh)\u001b[0m\n\u001b[0;32m    373\u001b[0m             \u001b[0mcrop_cmax\u001b[0m\u001b[1;33m=\u001b[0m\u001b[0mself\u001b[0m\u001b[1;33m.\u001b[0m\u001b[0mcmax\u001b[0m\u001b[1;33m,\u001b[0m\u001b[1;33m\u001b[0m\u001b[1;33m\u001b[0m\u001b[0m\n\u001b[0;32m    374\u001b[0m             \u001b[0mcrop_rmin\u001b[0m\u001b[1;33m=\u001b[0m\u001b[0mself\u001b[0m\u001b[1;33m.\u001b[0m\u001b[0mrmin\u001b[0m\u001b[1;33m,\u001b[0m\u001b[1;33m\u001b[0m\u001b[1;33m\u001b[0m\u001b[0m\n\u001b[1;32m--> 375\u001b[1;33m             \u001b[0mcrop_rmax\u001b[0m\u001b[1;33m=\u001b[0m\u001b[0mself\u001b[0m\u001b[1;33m.\u001b[0m\u001b[0mrmax\u001b[0m\u001b[1;33m,\u001b[0m\u001b[1;33m\u001b[0m\u001b[1;33m\u001b[0m\u001b[0m\n\u001b[0m\u001b[0;32m    376\u001b[0m         )\n\u001b[0;32m    377\u001b[0m         \u001b[0mself\u001b[0m\u001b[1;33m.\u001b[0m\u001b[0mx_\u001b[0m\u001b[1;33m,\u001b[0m \u001b[0mself\u001b[0m\u001b[1;33m.\u001b[0m\u001b[0my_\u001b[0m \u001b[1;33m=\u001b[0m \u001b[0mself\u001b[0m\u001b[1;33m.\u001b[0m\u001b[0mrc_\u001b[0m\u001b[1;33m[\u001b[0m\u001b[1;33m:\u001b[0m\u001b[1;33m,\u001b[0m \u001b[1;36m1\u001b[0m\u001b[1;33m]\u001b[0m\u001b[1;33m.\u001b[0m\u001b[0mflatten\u001b[0m\u001b[1;33m(\u001b[0m\u001b[1;33m)\u001b[0m\u001b[1;33m,\u001b[0m \u001b[0mself\u001b[0m\u001b[1;33m.\u001b[0m\u001b[0mrc_\u001b[0m\u001b[1;33m[\u001b[0m\u001b[1;33m:\u001b[0m\u001b[1;33m,\u001b[0m \u001b[1;36m0\u001b[0m\u001b[1;33m]\u001b[0m\u001b[1;33m.\u001b[0m\u001b[0mflatten\u001b[0m\u001b[1;33m(\u001b[0m\u001b[1;33m)\u001b[0m\u001b[1;33m\u001b[0m\u001b[1;33m\u001b[0m\u001b[0m\n",
      "\u001b[1;32mc:\\users\\rory\\repos\\mfreeze\\mfreeze\\locolib.py\u001b[0m in \u001b[0;36mtrack_location\u001b[1;34m(video_path, ref_frame, thresh, start_frame, stop_frame, crop_interactive, crop_cmin, crop_cmax, crop_rmin, crop_rmax)\u001b[0m\n\u001b[0;32m    141\u001b[0m             \u001b[0mdiff\u001b[0m \u001b[1;33m=\u001b[0m \u001b[0mcv2\u001b[0m\u001b[1;33m.\u001b[0m\u001b[0mabsdiff\u001b[0m\u001b[1;33m(\u001b[0m\u001b[0mref_frame\u001b[0m\u001b[1;33m,\u001b[0m \u001b[0mframe_new\u001b[0m\u001b[1;33m)\u001b[0m\u001b[1;33m\u001b[0m\u001b[1;33m\u001b[0m\u001b[0m\n\u001b[0;32m    142\u001b[0m             \u001b[0mdiff\u001b[0m\u001b[1;33m[\u001b[0m\u001b[0mdiff\u001b[0m \u001b[1;33m<\u001b[0m \u001b[0mnp\u001b[0m\u001b[1;33m.\u001b[0m\u001b[0mpercentile\u001b[0m\u001b[1;33m(\u001b[0m\u001b[0mdiff\u001b[0m\u001b[1;33m,\u001b[0m \u001b[0mthresh\u001b[0m\u001b[1;33m)\u001b[0m\u001b[1;33m]\u001b[0m \u001b[1;33m=\u001b[0m \u001b[1;36m0\u001b[0m\u001b[1;33m\u001b[0m\u001b[1;33m\u001b[0m\u001b[0m\n\u001b[1;32m--> 143\u001b[1;33m             \u001b[0mx_y\u001b[0m\u001b[1;33m[\u001b[0m\u001b[0mi\u001b[0m\u001b[1;33m,\u001b[0m \u001b[1;33m:\u001b[0m\u001b[1;33m]\u001b[0m \u001b[1;33m=\u001b[0m \u001b[0mcenter_of_mass\u001b[0m\u001b[1;33m(\u001b[0m\u001b[0mdiff\u001b[0m\u001b[1;33m)\u001b[0m\u001b[1;33m\u001b[0m\u001b[1;33m\u001b[0m\u001b[0m\n\u001b[0m\u001b[0;32m    144\u001b[0m     \u001b[1;32mreturn\u001b[0m \u001b[0mx_y\u001b[0m\u001b[1;33m\u001b[0m\u001b[1;33m\u001b[0m\u001b[0m\n",
      "\u001b[1;32mc:\\users\\rory\\.conda\\envs\\ah_vids\\lib\\site-packages\\scipy\\ndimage\\measurements.py\u001b[0m in \u001b[0;36mcenter_of_mass\u001b[1;34m(input, labels, index)\u001b[0m\n\u001b[0;32m   1384\u001b[0m \u001b[1;33m\u001b[0m\u001b[0m\n\u001b[0;32m   1385\u001b[0m     results = [sum(input * grids[dir].astype(float), labels, index) / normalizer\n\u001b[1;32m-> 1386\u001b[1;33m                for dir in range(input.ndim)]\n\u001b[0m\u001b[0;32m   1387\u001b[0m \u001b[1;33m\u001b[0m\u001b[0m\n\u001b[0;32m   1388\u001b[0m     \u001b[1;32mif\u001b[0m \u001b[0mnumpy\u001b[0m\u001b[1;33m.\u001b[0m\u001b[0misscalar\u001b[0m\u001b[1;33m(\u001b[0m\u001b[0mresults\u001b[0m\u001b[1;33m[\u001b[0m\u001b[1;36m0\u001b[0m\u001b[1;33m]\u001b[0m\u001b[1;33m)\u001b[0m\u001b[1;33m:\u001b[0m\u001b[1;33m\u001b[0m\u001b[1;33m\u001b[0m\u001b[0m\n",
      "\u001b[1;32mc:\\users\\rory\\.conda\\envs\\ah_vids\\lib\\site-packages\\scipy\\ndimage\\measurements.py\u001b[0m in \u001b[0;36m<listcomp>\u001b[1;34m(.0)\u001b[0m\n\u001b[0;32m   1384\u001b[0m \u001b[1;33m\u001b[0m\u001b[0m\n\u001b[0;32m   1385\u001b[0m     results = [sum(input * grids[dir].astype(float), labels, index) / normalizer\n\u001b[1;32m-> 1386\u001b[1;33m                for dir in range(input.ndim)]\n\u001b[0m\u001b[0;32m   1387\u001b[0m \u001b[1;33m\u001b[0m\u001b[0m\n\u001b[0;32m   1388\u001b[0m     \u001b[1;32mif\u001b[0m \u001b[0mnumpy\u001b[0m\u001b[1;33m.\u001b[0m\u001b[0misscalar\u001b[0m\u001b[1;33m(\u001b[0m\u001b[0mresults\u001b[0m\u001b[1;33m[\u001b[0m\u001b[1;36m0\u001b[0m\u001b[1;33m]\u001b[0m\u001b[1;33m)\u001b[0m\u001b[1;33m:\u001b[0m\u001b[1;33m\u001b[0m\u001b[1;33m\u001b[0m\u001b[0m\n",
      "\u001b[1;31mKeyboardInterrupt\u001b[0m: "
     ]
    }
   ],
   "source": [
    "freeze_threshold = -0.15 \n",
    "start_frame=400\n",
    "\n",
    "for inner_name in inner_names:\n",
    "    outer_name = \"FP\"\n",
    "    ext = \".mp4\"\n",
    "    save_dir = Path(\".\").absolute().parent / \"output\" / outer_name / inner_name\n",
    "    save_vid_dir = save_dir / \"processed_videos\"\n",
    "    save_report_dir = save_dir / \"reports\"\n",
    "    for d in (save_dir.parent, save_dir, save_vid_dir, save_report_dir):\n",
    "        d.mkdir(exist_ok=True)\n",
    "    input_dir = Path(\".\").absolute().parent / \"raw_videos\" / outer_name / inner_name\n",
    "    for vid in tqdm(input_dir.glob(f\"*{ext}\")):\n",
    "        vid = str(vid)\n",
    "        detector = FreezeDetector(\n",
    "            vid,\n",
    "            save_video_dir=save_vid_dir,\n",
    "            freeze_threshold=freeze_threshold, \n",
    "            start_frame=start_frame, \n",
    "            med_filter_size=5\n",
    "        )\n",
    "        ROLE = \"obs\"\n",
    "        detector.run_analysis()\n",
    "\n",
    "        tracker = LoctionTracker(vid, save_video_dir=save_vid_dir, start_frame=start_frame)\n",
    "        tracker = crop_set_same(detector, tracker)\n",
    "        tracker.track_location()\n",
    "        tracker.save_video()\n",
    "\n",
    "        dff = detector.generate_report()\n",
    "        dft = tracker.generate_report()\n",
    "        df = pd.merge(dff, dft, on=[\"frame\", \"time\", \"video_name\"]).assign(role=ROLE)\n",
    "        df.to_csv(str(save_report_dir / Path(vid).stem) + f\"_{ROLE}.csv\", index=False)"
   ]
  },
  {
   "cell_type": "code",
   "execution_count": null,
   "metadata": {},
   "outputs": [],
   "source": []
  }
 ],
 "metadata": {
  "kernelspec": {
   "display_name": "Python 3",
   "language": "python",
   "name": "python3"
  },
  "language_info": {
   "codemirror_mode": {
    "name": "ipython",
    "version": 3
   },
   "file_extension": ".py",
   "mimetype": "text/x-python",
   "name": "python",
   "nbconvert_exporter": "python",
   "pygments_lexer": "ipython3",
   "version": "3.6.10"
  }
 },
 "nbformat": 4,
 "nbformat_minor": 4
}
