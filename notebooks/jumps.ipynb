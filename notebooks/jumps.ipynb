{
 "cells": [
  {
   "cell_type": "code",
   "execution_count": 10,
   "metadata": {},
   "outputs": [],
   "source": [
    "import sys\n",
    "sys.path.append(\"..\")\n",
    "from pathlib import Path\n",
    "from utils import save_jump_video\n",
    "import pandas as pd\n",
    "from scipy.stats import zscore, percentileofscore\n",
    "from scipy.ndimage import gaussian_filter1d"
   ]
  },
  {
   "cell_type": "code",
   "execution_count": 22,
   "metadata": {},
   "outputs": [],
   "source": [
    "# home_dir = Path(\".\").absolute().parent\n",
    "home_dir = Path(r\"C:\\Users\\rory\\repos\\ah_vids\\output\\PL_BLA\")\n",
    "\n",
    "jump_dir = home_dir / \"jump_vids\"\n",
    "jump_dir.mkdir(exist_ok=True)\n",
    "\n",
    "data_dir = home_dir / \"reports\"\n",
    "\n",
    "vid_dir = Path(r\"C:\\Users\\rory\\repos\\ah_vids\\raw_videos\\PL-ChR_OFL\") / home_dir.name\n"
   ]
  },
  {
   "cell_type": "code",
   "execution_count": 23,
   "metadata": {},
   "outputs": [],
   "source": [
    "vid_paths = data_dir.glob(\"*_dem.csv\")\n",
    "\n",
    "frames = []\n",
    "for p in vid_paths:\n",
    "    frames.append(pd.read_csv(p))\n",
    "    \n",
    "df = pd.concat(frames)"
   ]
  },
  {
   "cell_type": "code",
   "execution_count": 24,
   "metadata": {},
   "outputs": [],
   "source": [
    "vids = df.video_name.unique()"
   ]
  },
  {
   "cell_type": "code",
   "execution_count": 25,
   "metadata": {},
   "outputs": [],
   "source": [
    "dfz = (\n",
    "    df\n",
    "    .dropna()\n",
    "    .assign(\n",
    "        distance_z= lambda x: x.groupby(\"video_name\")[\"distance\"].transform(lambda x: zscore(x)),\n",
    "        was_jump= lambda x: x.distance_z.apply(lambda y: y > 1.7).astype(int),\n",
    "           )\n",
    "    \n",
    ")"
   ]
  },
  {
   "cell_type": "code",
   "execution_count": 6,
   "metadata": {},
   "outputs": [],
   "source": [
    "def save_vid(df, vid_name, colname=\"was_jump\"):\n",
    "    source_file = str(vid_dir / vid_name)\n",
    "    outfile_path = str(jump_dir / f\"jump_{Path(vid_name).stem}.avi\")\n",
    "    freezes = df.loc[lambda x: x.video_name == vid_name][colname].values\n",
    "    start_frame = df.loc[lambda x: x.video_name == vid_name][\"frame\"].min()\n",
    "    \n",
    "    save_jump_video(source_file, outfile_path=outfile_path, freezes=freezes, start_frame=start_frame)"
   ]
  },
  {
   "cell_type": "code",
   "execution_count": 14,
   "metadata": {},
   "outputs": [],
   "source": [
    "vids = df.video_name.unique()"
   ]
  },
  {
   "cell_type": "code",
   "execution_count": 15,
   "metadata": {},
   "outputs": [],
   "source": [
    "# save_vid(dfz, vids[3])"
   ]
  },
  {
   "cell_type": "code",
   "execution_count": 16,
   "metadata": {},
   "outputs": [
    {
     "name": "stdout",
     "output_type": "stream",
     "text": [
      "33.33333333333333%\n",
      "66.66666666666666%\n",
      "100.0%\n"
     ]
    }
   ],
   "source": [
    "vids = df.video_name.unique()\n",
    "for i, vid in enumerate(vids):\n",
    "    print(str(((i + 1) / len(vids) * 100)) + \"%\")\n",
    "    save_vid(dfz, vid, \"was_jump\")"
   ]
  },
  {
   "cell_type": "code",
   "execution_count": 104,
   "metadata": {},
   "outputs": [],
   "source": [
    "# save_vid(dfz, vid, \"was_jump\")"
   ]
  },
  {
   "cell_type": "code",
   "execution_count": 26,
   "metadata": {},
   "outputs": [],
   "source": [
    "(\n",
    "    dfz\n",
    "    .to_csv(home_dir / \"dem_reports_with_jumps.csv\", index=False)\n",
    ")"
   ]
  },
  {
   "cell_type": "code",
   "execution_count": null,
   "metadata": {},
   "outputs": [],
   "source": []
  }
 ],
 "metadata": {
  "kernelspec": {
   "display_name": "Python 3",
   "language": "python",
   "name": "python3"
  },
  "language_info": {
   "codemirror_mode": {
    "name": "ipython",
    "version": 3
   },
   "file_extension": ".py",
   "mimetype": "text/x-python",
   "name": "python",
   "nbconvert_exporter": "python",
   "pygments_lexer": "ipython3",
   "version": "3.6.10"
  }
 },
 "nbformat": 4,
 "nbformat_minor": 4
}
